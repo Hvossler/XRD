{
 "cells": [
  {
   "cell_type": "code",
   "execution_count": 1,
   "metadata": {},
   "outputs": [],
   "source": [
    "import numpy as np"
   ]
  },
  {
   "cell_type": "markdown",
   "metadata": {},
   "source": [
    "I need to write a function that will take in the atom positions (xyz) of a crystal structure, and take in hkl miller indices (hkl), \n",
    "and return the complex conjugate.  then multiply those together to get F^2. i think. \n"
   ]
  },
  {
   "cell_type": "markdown",
   "metadata": {},
   "source": [
    "lets start with a simple example:"
   ]
  },
  {
   "cell_type": "code",
   "execution_count": 13,
   "metadata": {},
   "outputs": [
    {
     "name": "stdout",
     "output_type": "stream",
     "text": [
      "(2-4j)\n",
      "20.0\n"
     ]
    }
   ],
   "source": [
    "value = 2 + 4j\n",
    "conjugate1 = np.conj(value)\n",
    "print(conjugate1)\n",
    "answer = (value*conjugate1).real\n",
    "print(answer)"
   ]
  },
  {
   "cell_type": "markdown",
   "metadata": {},
   "source": [
    "change this so it uses imaginary numbers:"
   ]
  },
  {
   "cell_type": "code",
   "execution_count": 50,
   "metadata": {},
   "outputs": [],
   "source": [
    "def compute_structure_factor_term(atom_positions, miller_indices_array):\n",
    "    results = {}\n",
    "    \n",
    "    for miller_indices in miller_indices_array:\n",
    "        h, k, l = miller_indices\n",
    "        total = 0\n",
    "        \n",
    "        for position in atom_positions:\n",
    "            position_adjusted = 2*position # distribute the 2 in the exponential factor to each atom position\n",
    "            x, y, z = position_adjusted\n",
    "            value = x * h + y * k + z * l\n",
    "\n",
    "            # Check if value is even or 0\n",
    "            if value % 2 == 0:\n",
    "                total += 1\n",
    "            # If value is odd\n",
    "            elif value % 2 ==1:\n",
    "                total -= 1\n",
    "            else:\n",
    "                total += \"imaginary\"\n",
    "        \n",
    "        # Store the result with Miller indices as the key\n",
    "        results[tuple(miller_indices)] = total\n",
    "    \n",
    "    return results"
   ]
  },
  {
   "cell_type": "code",
   "execution_count": 52,
   "metadata": {},
   "outputs": [],
   "source": [
    "def compute_structure_factor_term_i(atom_positions, miller_indices_array):\n",
    "    results = {}\n",
    "    \n",
    "    for miller_indices in miller_indices_array:\n",
    "        h, k, l = miller_indices\n",
    "        total = 0\n",
    "        \n",
    "        for position in atom_positions:\n",
    "            #position_adjusted = 2*position # distribute the 2 in the exponential factor to each atom position\n",
    "            x, y, z = position\n",
    "            value = x * h + y * k + z * l\n",
    "            term = np.round(np.exp(2j*np.pi*value), 2)\n",
    "            total += term\n",
    "        \n",
    "        # Store the result with Miller indices as the key\n",
    "        results[tuple(miller_indices)] = total\n",
    "    \n",
    "    return results"
   ]
  },
  {
   "cell_type": "code",
   "execution_count": 60,
   "metadata": {},
   "outputs": [
    {
     "data": {
      "text/plain": [
       "{(1, 1, 1): (4-4j), (2, 0, 0): 0j, (1, 1, 0): 0j, (2, 2, 2): 0j}"
      ]
     },
     "execution_count": 60,
     "metadata": {},
     "output_type": "execute_result"
    }
   ],
   "source": [
    "atom_positions = np.array([[0, 0, 0], [0.5, 0.5, 0], [0.5, 0, 0.5], [0, 0.5, 0.5], [0.25, 0.25, 0.25], [0.75, 0.75, 0.25], [0.75, 0.25, 0.75], [0.25, 0.75, 0.75]])\n",
    "miller_indices_array = np.array([[1, 1, 1], [2, 0, 0], [1, 1, 0], [2, 2, 2]])\n",
    "results = compute_structure_factor_term_i(atom_positions, miller_indices_array)\n",
    "results"
   ]
  },
  {
   "cell_type": "markdown",
   "metadata": {},
   "source": [
    "now i multipy f (scattering) by each of these structure factor terms. this becomes F. then i square them (by taking conjugate), and make the number real. that becomes F^2. \n",
    "\n",
    "\n",
    "questin, can you take conjugate when there is no i term? will it still worK?"
   ]
  },
  {
   "cell_type": "code",
   "execution_count": 49,
   "metadata": {},
   "outputs": [
    {
     "name": "stdout",
     "output_type": "stream",
     "text": [
      "-1j\n",
      "1j\n",
      "(1+0j)\n",
      "1.0\n"
     ]
    }
   ],
   "source": [
    "x = results[(1, 1, 1)]\n",
    "print(x)\n",
    "conj = np.conj(results[(1, 1, 1)])\n",
    "print(conj)\n",
    "final = x*conj\n",
    "print(final)\n",
    "print(final.real)"
   ]
  },
  {
   "cell_type": "code",
   "execution_count": 57,
   "metadata": {},
   "outputs": [
    {
     "data": {
      "text/plain": [
       "(-1+8.572527594031472e-16j)"
      ]
     },
     "execution_count": 57,
     "metadata": {},
     "output_type": "execute_result"
    }
   ],
   "source": [
    "np.exp(np.pi*2j*7/2)"
   ]
  },
  {
   "cell_type": "code",
   "execution_count": null,
   "metadata": {},
   "outputs": [],
   "source": []
  }
 ],
 "metadata": {
  "kernelspec": {
   "display_name": "base",
   "language": "python",
   "name": "python3"
  },
  "language_info": {
   "codemirror_mode": {
    "name": "ipython",
    "version": 3
   },
   "file_extension": ".py",
   "mimetype": "text/x-python",
   "name": "python",
   "nbconvert_exporter": "python",
   "pygments_lexer": "ipython3",
   "version": "3.11.4"
  }
 },
 "nbformat": 4,
 "nbformat_minor": 2
}
