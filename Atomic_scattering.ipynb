{
 "cells": [
  {
   "cell_type": "code",
   "execution_count": 1,
   "metadata": {},
   "outputs": [],
   "source": [
    "import numpy as np\n",
    "import math\n",
    "import scipy as sp\n",
    "import pandas as pd\n",
    "import matplotlib.pyplot as plt\n",
    "import itertools"
   ]
  },
  {
   "cell_type": "code",
   "execution_count": 2,
   "metadata": {},
   "outputs": [],
   "source": [
    "# This calculates f, the atomic scattering factor, for each atom time at each theta angle \n",
    "def calc_atomic_scattering_factor(theta, atomic_number, a1, b1, a2, b2, a3, b3, a4=None, b4=None, wavelength = 0.1542):\n",
    "    s = math.sin(theta)/(wavelength*10)\n",
    "    f = atomic_number - (41.78214 * s**2) * (a1*np.e**(-b1*s**2) + a2*np.e**(-b2*s**2) + a3*np.e**(-b3*s**2) + a4*np.e**(-b4*s**2))\n",
    "    return f"
   ]
  },
  {
   "cell_type": "markdown",
   "metadata": {},
   "source": [
    "Store info for all atoms used:"
   ]
  },
  {
   "cell_type": "code",
   "execution_count": 9,
   "metadata": {},
   "outputs": [
    {
     "ename": "NameError",
     "evalue": "name 'x' is not defined",
     "output_type": "error",
     "traceback": [
      "\u001b[0;31m---------------------------------------------------------------------------\u001b[0m",
      "\u001b[0;31mNameError\u001b[0m                                 Traceback (most recent call last)",
      "\u001b[1;32m/Users/hendrikvossler/Desktop/GitHub/XRD/Atomic_scattering.ipynb Cell 4\u001b[0m line \u001b[0;36m2\n\u001b[1;32m      <a href='vscode-notebook-cell:/Users/hendrikvossler/Desktop/GitHub/XRD/Atomic_scattering.ipynb#W5sZmlsZQ%3D%3D?line=0'>1</a>\u001b[0m \u001b[39m# Atomic scattering parameters for relevant elements\u001b[39;00m\n\u001b[0;32m----> <a href='vscode-notebook-cell:/Users/hendrikvossler/Desktop/GitHub/XRD/Atomic_scattering.ipynb#W5sZmlsZQ%3D%3D?line=1'>2</a>\u001b[0m Al \u001b[39m=\u001b[39m (x, \u001b[39m13\u001b[39m, \u001b[39m2.276\u001b[39m, \u001b[39m72.322\u001b[39m, \u001b[39m2.428\u001b[39m, \u001b[39m19.773\u001b[39m, \u001b[39m0.858\u001b[39m, \u001b[39m3.080\u001b[39m, \u001b[39m0.317\u001b[39m, \u001b[39m0.408\u001b[39m)\n\u001b[1;32m      <a href='vscode-notebook-cell:/Users/hendrikvossler/Desktop/GitHub/XRD/Atomic_scattering.ipynb#W5sZmlsZQ%3D%3D?line=2'>3</a>\u001b[0m Cu \u001b[39m=\u001b[39m (x, \u001b[39m29\u001b[39m, \u001b[39m1.579\u001b[39m, \u001b[39m62.940\u001b[39m, \u001b[39m1.820\u001b[39m, \u001b[39m12.453\u001b[39m, \u001b[39m1.658\u001b[39m, \u001b[39m2.504\u001b[39m, \u001b[39m0.532\u001b[39m, \u001b[39m0.333\u001b[39m)\n\u001b[1;32m      <a href='vscode-notebook-cell:/Users/hendrikvossler/Desktop/GitHub/XRD/Atomic_scattering.ipynb#W5sZmlsZQ%3D%3D?line=3'>4</a>\u001b[0m Mn \u001b[39m=\u001b[39m (x, \u001b[39m25\u001b[39m, \u001b[39m2.747\u001b[39m, \u001b[39m67.786\u001b[39m, \u001b[39m2.456\u001b[39m, \u001b[39m15.674\u001b[39m, \u001b[39m1.792\u001b[39m, \u001b[39m3\u001b[39m, \u001b[39m0.498\u001b[39m, \u001b[39m0.357\u001b[39m)\n",
      "\u001b[0;31mNameError\u001b[0m: name 'x' is not defined"
     ]
    }
   ],
   "source": [
    "# Atomic scattering parameters for relevant elements\n",
    "Al = (x, 13, 2.276, 72.322, 2.428, 19.773, 0.858, 3.080, 0.317, 0.408)\n",
    "Cu = (x, 29, 1.579, 62.940, 1.820, 12.453, 1.658, 2.504, 0.532, 0.333)\n",
    "Mn = (x, 25, 2.747, 67.786, 2.456, 15.674, 1.792, 3, 0.498, 0.357)\n",
    "O = (x, 8, 0.455, 23.780, 0.917, 7.622, 0.472, 2.144, 0.138, 0.296)\n",
    "Cs = (x, 55, 6.062, 155.837, 5.986, 19,695, 3.303, 3.335, 1.096, 0.379)\n",
    "Cl = (x, 17, 1.452, 30.935, 2.292, 9.980, 0.787, 2.234, 0.322, 0.323)\n",
    "Fe = (x, 26, 2.544, 64.424, 2.343, 14.880, 1.759, 2.854, 0.506, 0.350)\n",
    "Cu = (x, 29, 1.579, 62.940, 1.820, 12.453, 1.658, 2.504, 0.532, 0.333)\n",
    "\n"
   ]
  },
  {
   "cell_type": "code",
   "execution_count": null,
   "metadata": {},
   "outputs": [],
   "source": []
  }
 ],
 "metadata": {
  "kernelspec": {
   "display_name": "base",
   "language": "python",
   "name": "python3"
  },
  "language_info": {
   "codemirror_mode": {
    "name": "ipython",
    "version": 3
   },
   "file_extension": ".py",
   "mimetype": "text/x-python",
   "name": "python",
   "nbconvert_exporter": "python",
   "pygments_lexer": "ipython3",
   "version": "3.11.4"
  }
 },
 "nbformat": 4,
 "nbformat_minor": 2
}
